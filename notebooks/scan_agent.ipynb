{
 "cells": [
  {
   "cell_type": "code",
   "execution_count": 1,
   "id": "3d9fb906",
   "metadata": {},
   "outputs": [],
   "source": [
    "import os, getpass\n",
    "\n",
    "\n",
    "def _set_env(var: str):\n",
    "    if not os.environ.get(var):\n",
    "        os.environ[var] = getpass.getpass(f\"{var}: \")\n",
    "\n",
    "\n",
    "_set_env(\"OPENAI_API_KEY\")\n",
    "_set_env(\"TAVILY_API_KEY\")\n",
    "_set_env(\"LANGSMITH_API_KEY\")\n",
    "\n",
    "os.environ[\"LANGSMITH_TRACING\"] = \"true\"\n",
    "os.environ[\"LANGSMITH_PROJECT\"] = \"scan_agent\""
   ]
  },
  {
   "cell_type": "code",
   "execution_count": 3,
   "id": "775d8b7c",
   "metadata": {},
   "outputs": [
    {
     "data": {
      "image/png": "[encoded data removed]",
      "text/plain": [
       "<IPython.core.display.Image object>"
      ]
     },
     "metadata": {},
     "output_type": "display_data"
    }
   ],
   "source": [
    "from scan_agent.graph import create_scan_graph\n",
    "from IPython.display import Image, display\n",
    "\n",
    "graph = create_scan_graph()\n",
    "display(Image(graph.get_graph(xray=True).draw_mermaid_png()))"
   ]
  },
  {
   "cell_type": "code",
   "execution_count": null,
   "id": "27ec74f7",
   "metadata": {},
   "outputs": [],
   "source": [
    "from langchain_core.runnables.config import RunnableConfig\n",
    "from agent_core.graph import run_graph\n",
    "from agent_core.state import ReActUsage, ToolsUsage, Tools, Target\n",
    "from agent_core.tool import CURL_TOOL, FFUF_TOOL\n",
    "import uuid\n",
    "from datetime import timedelta\n",
    "\n",
    "state = {\n",
    "    \"target\": Target(url=\"http://localhost:8000\", description=\"Local REST API target\", type=\"web\"),\n",
    "    \"usage\": ReActUsage(limit=25),\n",
    "    \"tools_usage\": ToolsUsage(\n",
    "        limits={\n",
    "            FFUF_TOOL.name: 2,\n",
    "            CURL_TOOL.name: 5,\n",
    "        }\n",
    "    ),\n",
    "    \"tools\": Tools(tools=[FFUF_TOOL, CURL_TOOL]),\n",
    "}\n",
    "thread_id = str(uuid.uuid4())[:8]\n",
    "config = RunnableConfig(\n",
    "    max_concurrency=10,\n",
    "    recursion_limit=25,\n",
    "    configurable={\"thread_id\": thread_id},\n",
    ")\n",
    "\n",
    "print(f\"🚀 Starting improved event processing with thread ID: {thread_id}\")\n",
    "print(\"=\" * 80)\n",
    "\n",
    "event = await run_graph(graph, state, config)"
   ]
  }
 ],
 "metadata": {
  "kernelspec": {
   "display_name": "cybersecurity-ai-agent-BnCkPTqH-py3.13",
   "language": "python",
   "name": "python3"
  },
  "language_info": {
   "codemirror_mode": {
    "name": "ipython",
    "version": 3
   },
   "file_extension": ".py",
   "mimetype": "text/x-python",
   "name": "python",
   "nbconvert_exporter": "python",
   "pygments_lexer": "ipython3",
   "version": "3.13.4"
  }
 },
 "nbformat": 4,
 "nbformat_minor": 5
}
